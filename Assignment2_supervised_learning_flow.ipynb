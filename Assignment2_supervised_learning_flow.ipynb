{
 "cells": [
  {
   "cell_type": "markdown",
   "id": "ec202ada",
   "metadata": {},
   "source": [
    "## Assignment2 - Supervised Learning flow"
   ]
  },
  {
   "cell_type": "markdown",
   "id": "b06a2810",
   "metadata": {},
   "source": [
    "### Part 1 - Student details:\n",
    "* Please write the First Name and last 4 digits of the i.d. for each student. For example:\n",
    "<pre>Israel 9812</pre>"
   ]
  },
  {
   "cell_type": "code",
   "execution_count": 1,
   "id": "ca16486b",
   "metadata": {},
   "outputs": [],
   "source": [
    "# student 1: Doron 7446\n",
    "# student 2: Niva 1561\n",
    "# student 3: Sharon 0601\n",
    "# student 4: Dor 3433"
   ]
  },
  {
   "cell_type": "markdown",
   "id": "fb36672a",
   "metadata": {},
   "source": [
    "## Part 2 - Experiments\n",
    "You could add as many code cells as needed"
   ]
  },
  {
   "cell_type": "code",
   "execution_count": 2,
   "id": "b7098585",
   "metadata": {},
   "outputs": [],
   "source": [
    "import pandas as pd\n",
    "import sklearn\n",
    "import numpy as np\n",
    "import matplotlib \n",
    "import matplotlib.pyplot as plt\n",
    "from sklearn import tree\n",
    "from sklearn.tree import DecisionTreeClassifier\n",
    "from sklearn.model_selection import KFold, cross_val_score,cross_val_predict,GridSearchCV\n",
    "from sklearn.metrics import accuracy_score,classification_report,f1_score,confusion_matrix,precision_score, recall_score\n",
    "from sklearn.neighbors import KNeighborsClassifier\n",
    "from sklearn.preprocessing import MinMaxScaler"
   ]
  },
  {
   "cell_type": "code",
   "execution_count": 3,
   "id": "097afb02",
   "metadata": {},
   "outputs": [],
   "source": [
    "def load_csv(url):\n",
    "    df = pd.read_csv(url)\n",
    "    return df"
   ]
  },
  {
   "cell_type": "code",
   "execution_count": 4,
   "id": "1fa9ec73",
   "metadata": {},
   "outputs": [
    {
     "data": {
      "text/html": [
       "<div>\n",
       "<style scoped>\n",
       "    .dataframe tbody tr th:only-of-type {\n",
       "        vertical-align: middle;\n",
       "    }\n",
       "\n",
       "    .dataframe tbody tr th {\n",
       "        vertical-align: top;\n",
       "    }\n",
       "\n",
       "    .dataframe thead th {\n",
       "        text-align: right;\n",
       "    }\n",
       "</style>\n",
       "<table border=\"1\" class=\"dataframe\">\n",
       "  <thead>\n",
       "    <tr style=\"text-align: right;\">\n",
       "      <th></th>\n",
       "      <th>Pclass</th>\n",
       "      <th>Sex</th>\n",
       "      <th>Age</th>\n",
       "      <th>SibSp</th>\n",
       "      <th>Parch</th>\n",
       "      <th>Fare</th>\n",
       "      <th>Embarked</th>\n",
       "      <th>Survived</th>\n",
       "    </tr>\n",
       "  </thead>\n",
       "  <tbody>\n",
       "    <tr>\n",
       "      <th>0</th>\n",
       "      <td>1</td>\n",
       "      <td>0</td>\n",
       "      <td>54.0</td>\n",
       "      <td>1</td>\n",
       "      <td>0</td>\n",
       "      <td>78.2667</td>\n",
       "      <td>1</td>\n",
       "      <td>1</td>\n",
       "    </tr>\n",
       "    <tr>\n",
       "      <th>1</th>\n",
       "      <td>2</td>\n",
       "      <td>0</td>\n",
       "      <td>45.0</td>\n",
       "      <td>0</td>\n",
       "      <td>0</td>\n",
       "      <td>13.5000</td>\n",
       "      <td>0</td>\n",
       "      <td>1</td>\n",
       "    </tr>\n",
       "    <tr>\n",
       "      <th>2</th>\n",
       "      <td>3</td>\n",
       "      <td>1</td>\n",
       "      <td>20.0</td>\n",
       "      <td>0</td>\n",
       "      <td>0</td>\n",
       "      <td>9.5000</td>\n",
       "      <td>0</td>\n",
       "      <td>0</td>\n",
       "    </tr>\n",
       "    <tr>\n",
       "      <th>3</th>\n",
       "      <td>3</td>\n",
       "      <td>1</td>\n",
       "      <td>36.0</td>\n",
       "      <td>0</td>\n",
       "      <td>0</td>\n",
       "      <td>7.8958</td>\n",
       "      <td>0</td>\n",
       "      <td>0</td>\n",
       "    </tr>\n",
       "    <tr>\n",
       "      <th>4</th>\n",
       "      <td>3</td>\n",
       "      <td>1</td>\n",
       "      <td>22.0</td>\n",
       "      <td>0</td>\n",
       "      <td>0</td>\n",
       "      <td>8.0500</td>\n",
       "      <td>0</td>\n",
       "      <td>0</td>\n",
       "    </tr>\n",
       "  </tbody>\n",
       "</table>\n",
       "</div>"
      ],
      "text/plain": [
       "   Pclass  Sex   Age  SibSp  Parch     Fare  Embarked  Survived\n",
       "0       1    0  54.0      1      0  78.2667         1         1\n",
       "1       2    0  45.0      0      0  13.5000         0         1\n",
       "2       3    1  20.0      0      0   9.5000         0         0\n",
       "3       3    1  36.0      0      0   7.8958         0         0\n",
       "4       3    1  22.0      0      0   8.0500         0         0"
      ]
     },
     "metadata": {},
     "output_type": "display_data"
    },
    {
     "data": {
      "text/html": [
       "<div>\n",
       "<style scoped>\n",
       "    .dataframe tbody tr th:only-of-type {\n",
       "        vertical-align: middle;\n",
       "    }\n",
       "\n",
       "    .dataframe tbody tr th {\n",
       "        vertical-align: top;\n",
       "    }\n",
       "\n",
       "    .dataframe thead th {\n",
       "        text-align: right;\n",
       "    }\n",
       "</style>\n",
       "<table border=\"1\" class=\"dataframe\">\n",
       "  <thead>\n",
       "    <tr style=\"text-align: right;\">\n",
       "      <th></th>\n",
       "      <th>Pclass</th>\n",
       "      <th>Sex</th>\n",
       "      <th>Age</th>\n",
       "      <th>SibSp</th>\n",
       "      <th>Parch</th>\n",
       "      <th>Fare</th>\n",
       "      <th>Embarked</th>\n",
       "      <th>Survived</th>\n",
       "    </tr>\n",
       "  </thead>\n",
       "  <tbody>\n",
       "    <tr>\n",
       "      <th>0</th>\n",
       "      <td>3</td>\n",
       "      <td>1</td>\n",
       "      <td>35.000000</td>\n",
       "      <td>0</td>\n",
       "      <td>0</td>\n",
       "      <td>7.0500</td>\n",
       "      <td>0</td>\n",
       "      <td>0</td>\n",
       "    </tr>\n",
       "    <tr>\n",
       "      <th>1</th>\n",
       "      <td>3</td>\n",
       "      <td>1</td>\n",
       "      <td>30.000000</td>\n",
       "      <td>0</td>\n",
       "      <td>0</td>\n",
       "      <td>7.2500</td>\n",
       "      <td>0</td>\n",
       "      <td>0</td>\n",
       "    </tr>\n",
       "    <tr>\n",
       "      <th>2</th>\n",
       "      <td>3</td>\n",
       "      <td>1</td>\n",
       "      <td>29.699118</td>\n",
       "      <td>0</td>\n",
       "      <td>0</td>\n",
       "      <td>14.5000</td>\n",
       "      <td>0</td>\n",
       "      <td>0</td>\n",
       "    </tr>\n",
       "    <tr>\n",
       "      <th>3</th>\n",
       "      <td>3</td>\n",
       "      <td>0</td>\n",
       "      <td>21.000000</td>\n",
       "      <td>0</td>\n",
       "      <td>0</td>\n",
       "      <td>7.7500</td>\n",
       "      <td>2</td>\n",
       "      <td>0</td>\n",
       "    </tr>\n",
       "    <tr>\n",
       "      <th>4</th>\n",
       "      <td>3</td>\n",
       "      <td>1</td>\n",
       "      <td>32.000000</td>\n",
       "      <td>0</td>\n",
       "      <td>0</td>\n",
       "      <td>56.4958</td>\n",
       "      <td>0</td>\n",
       "      <td>1</td>\n",
       "    </tr>\n",
       "  </tbody>\n",
       "</table>\n",
       "</div>"
      ],
      "text/plain": [
       "   Pclass  Sex        Age  SibSp  Parch     Fare  Embarked  Survived\n",
       "0       3    1  35.000000      0      0   7.0500         0         0\n",
       "1       3    1  30.000000      0      0   7.2500         0         0\n",
       "2       3    1  29.699118      0      0  14.5000         0         0\n",
       "3       3    0  21.000000      0      0   7.7500         2         0\n",
       "4       3    1  32.000000      0      0  56.4958         0         1"
      ]
     },
     "metadata": {},
     "output_type": "display_data"
    }
   ],
   "source": [
    "train_titanic = load_csv(\"titanic_train.csv\")\n",
    "test_titanic = load_csv(\"titanic_test.csv\")\n",
    "display(train_titanic.head())\n",
    "display(test_titanic.head())"
   ]
  },
  {
   "cell_type": "code",
   "execution_count": 5,
   "id": "1723ab23-71e1-46d0-a533-2bc9bc53abbe",
   "metadata": {},
   "outputs": [],
   "source": [
    "y_train = train_titanic['Survived']\n",
    "x_train = train_titanic.drop(['Survived'],axis=1)\n",
    "y_test = test_titanic['Survived']\n",
    "x_test = test_titanic.drop(['Survived'],axis=1)"
   ]
  },
  {
   "cell_type": "code",
   "execution_count": 6,
   "id": "937b653d",
   "metadata": {},
   "outputs": [
    {
     "data": {
      "image/png": "[encoded data removed]",
      "text/plain": [
       "<Figure size 640x480 with 1 Axes>"
      ]
     },
     "metadata": {},
     "output_type": "display_data"
    }
   ],
   "source": [
    "plt.hist(train_titanic.Age)\n",
    "plt.xlabel('Age')\n",
    "plt.ylabel('Amount')\n",
    "plt.show()"
   ]
  },
  {
   "cell_type": "code",
   "execution_count": 7,
   "id": "68f9cac1-acc0-4536-ab85-6c94a7196a64",
   "metadata": {},
   "outputs": [
    {
     "data": {
      "text/plain": [
       "([<matplotlib.patches.Wedge at 0x20cbfdc5690>,\n",
       "  <matplotlib.patches.Wedge at 0x20cbfdc6e90>],\n",
       " [Text(-1.0403159874899557, -0.35741103252809436, 'didnt Survived'),\n",
       "  Text(1.0403159874899557, 0.35741103252809464, 'Survived')],\n",
       " [Text(-0.5674450840854304, -0.19495147228805146, '60.5%'),\n",
       "  Text(0.5674450840854303, 0.19495147228805162, '39.5%')])"
      ]
     },
     "execution_count": 7,
     "metadata": {},
     "output_type": "execute_result"
    },
    {
     "data": {
      "image/png": "[encoded data removed]",
      "text/plain": [
       "<Figure size 640x480 with 1 Axes>"
      ]
     },
     "metadata": {},
     "output_type": "display_data"
    }
   ],
   "source": [
    "survival_counts = train_titanic['Survived'].value_counts()\n",
    "plt.pie(survival_counts, labels=['didnt Survived','Survived'], autopct='%1.1f%%', startangle=90, colors=['lightblue', 'lightpink'])"
   ]
  },
  {
   "cell_type": "code",
   "execution_count": 8,
   "id": "7a5f62bc-aa45-478a-ab48-dabecafa66d0",
   "metadata": {},
   "outputs": [],
   "source": [
    "def cross_tabulation(df,col1,col2,rows_names,cols_names):\n",
    "    ct1 = pd.crosstab(df[col1],df[col2],normalize='index')\n",
    "    ct1.index = rows_names\n",
    "    ct1.index.name = col1\n",
    "    ct1.columns = cols_names\n",
    "    ct1.columns.name = col2\n",
    "    return ct1"
   ]
  },
  {
   "cell_type": "code",
   "execution_count": 9,
   "id": "1e823d51-cf40-4695-87cb-4f869ecd2052",
   "metadata": {},
   "outputs": [
    {
     "data": {
      "text/html": [
       "<div>\n",
       "<style scoped>\n",
       "    .dataframe tbody tr th:only-of-type {\n",
       "        vertical-align: middle;\n",
       "    }\n",
       "\n",
       "    .dataframe tbody tr th {\n",
       "        vertical-align: top;\n",
       "    }\n",
       "\n",
       "    .dataframe thead th {\n",
       "        text-align: right;\n",
       "    }\n",
       "</style>\n",
       "<table border=\"1\" class=\"dataframe\">\n",
       "  <thead>\n",
       "    <tr style=\"text-align: right;\">\n",
       "      <th>Sex</th>\n",
       "      <th>Male</th>\n",
       "      <th>Female</th>\n",
       "    </tr>\n",
       "    <tr>\n",
       "      <th>Survived</th>\n",
       "      <th></th>\n",
       "      <th></th>\n",
       "    </tr>\n",
       "  </thead>\n",
       "  <tbody>\n",
       "    <tr>\n",
       "      <th>Didnt Survived</th>\n",
       "      <td>0.146172</td>\n",
       "      <td>0.853828</td>\n",
       "    </tr>\n",
       "    <tr>\n",
       "      <th>Survived</th>\n",
       "      <td>0.686833</td>\n",
       "      <td>0.313167</td>\n",
       "    </tr>\n",
       "  </tbody>\n",
       "</table>\n",
       "</div>"
      ],
      "text/plain": [
       "Sex                 Male    Female\n",
       "Survived                          \n",
       "Didnt Survived  0.146172  0.853828\n",
       "Survived        0.686833  0.313167"
      ]
     },
     "execution_count": 9,
     "metadata": {},
     "output_type": "execute_result"
    }
   ],
   "source": [
    "cross_tabulation(train_titanic,'Survived','Sex',['Didnt Survived','Survived'],['Male','Female'])"
   ]
  },
  {
   "cell_type": "code",
   "execution_count": 10,
   "id": "fd837898-df42-4b5b-a67d-180b2305e89a",
   "metadata": {},
   "outputs": [
    {
     "data": {
      "text/html": [
       "<div>\n",
       "<style scoped>\n",
       "    .dataframe tbody tr th:only-of-type {\n",
       "        vertical-align: middle;\n",
       "    }\n",
       "\n",
       "    .dataframe tbody tr th {\n",
       "        vertical-align: top;\n",
       "    }\n",
       "\n",
       "    .dataframe thead th {\n",
       "        text-align: right;\n",
       "    }\n",
       "</style>\n",
       "<table border=\"1\" class=\"dataframe\">\n",
       "  <thead>\n",
       "    <tr style=\"text-align: right;\">\n",
       "      <th>Embarked</th>\n",
       "      <th>0</th>\n",
       "      <th>1</th>\n",
       "      <th>2</th>\n",
       "      <th>3</th>\n",
       "    </tr>\n",
       "    <tr>\n",
       "      <th>Survived</th>\n",
       "      <th></th>\n",
       "      <th></th>\n",
       "      <th></th>\n",
       "      <th></th>\n",
       "    </tr>\n",
       "  </thead>\n",
       "  <tbody>\n",
       "    <tr>\n",
       "      <th>Didnt Survived</th>\n",
       "      <td>0.772622</td>\n",
       "      <td>0.134571</td>\n",
       "      <td>0.092807</td>\n",
       "      <td>0.000000</td>\n",
       "    </tr>\n",
       "    <tr>\n",
       "      <th>Survived</th>\n",
       "      <td>0.640569</td>\n",
       "      <td>0.270463</td>\n",
       "      <td>0.085409</td>\n",
       "      <td>0.003559</td>\n",
       "    </tr>\n",
       "  </tbody>\n",
       "</table>\n",
       "</div>"
      ],
      "text/plain": [
       "Embarked               0         1         2         3\n",
       "Survived                                              \n",
       "Didnt Survived  0.772622  0.134571  0.092807  0.000000\n",
       "Survived        0.640569  0.270463  0.085409  0.003559"
      ]
     },
     "execution_count": 10,
     "metadata": {},
     "output_type": "execute_result"
    }
   ],
   "source": [
    "cross_tabulation(train_titanic,'Survived','Embarked',['Didnt Survived','Survived'],['0','1','2','3'])"
   ]
  },
  {
   "cell_type": "code",
   "execution_count": 11,
   "id": "45e80b56-0904-404a-9a87-77c3fa6f4769",
   "metadata": {},
   "outputs": [],
   "source": [
    "def MinMacScaling(X_train,X_test):\n",
    "    scaler = MinMaxScaler()\n",
    "    X_train_scaled = scaler.fit_transform(X_train)\n",
    "    X_test_scaled = scaler.fit_transform(X_test)\n",
    "    return X_train_scaled,X_test_scaled"
   ]
  },
  {
   "cell_type": "code",
   "execution_count": 12,
   "id": "fbbc189b-71c2-495d-9cba-93fc726f4c89",
   "metadata": {},
   "outputs": [],
   "source": [
    "X_train_scaled,X_test_scaled = MinMacScaling(x_train,x_test)"
   ]
  },
  {
   "cell_type": "code",
   "execution_count": 13,
   "id": "4f9163cc-81c5-4c88-aac9-ab946177b2ed",
   "metadata": {},
   "outputs": [],
   "source": [
    "def knnPredict(k,dist_metric):\n",
    "    knn = KNeighborsClassifier(n_neighbors=k,metric=dist_metric)\n",
    "    knn.fit(X_train_scaled,y_train)"
   ]
  },
  {
   "cell_type": "code",
   "execution_count": 14,
   "id": "749a4547-0030-4773-ae5d-4cb658dfcb79",
   "metadata": {},
   "outputs": [],
   "source": [
    "def knnPredict_no_scaling(k,dist_metric):\n",
    "    knn = KNeighborsClassifier(n_neighbors=k,metric=dist_metric)\n",
    "    knn.fit(x_train,y_train)"
   ]
  },
  {
   "cell_type": "code",
   "execution_count": 15,
   "id": "1a65a2f1-fe58-4373-a4cf-298218973af1",
   "metadata": {},
   "outputs": [],
   "source": [
    "knnPredict(3,'manhattan')\n",
    "knnPredict_no_scaling(3,'manhattan')"
   ]
  },
  {
   "cell_type": "code",
   "execution_count": 16,
   "id": "84ae3383-86ac-49a2-a6c1-2893f489131f",
   "metadata": {},
   "outputs": [],
   "source": [
    "knnPredict(3,'chebyshev')\n",
    "knnPredict_no_scaling(3,'chebyshev')"
   ]
  },
  {
   "cell_type": "code",
   "execution_count": 17,
   "id": "3169cdac-1df0-4155-868e-470b3c5de554",
   "metadata": {},
   "outputs": [],
   "source": [
    "knnPredict(7,'manhattan')\n",
    "knnPredict_no_scaling(7,'manhattan')"
   ]
  },
  {
   "cell_type": "code",
   "execution_count": 18,
   "id": "0f3b8913-02f4-4b71-b8a4-072dfd0b860b",
   "metadata": {},
   "outputs": [],
   "source": [
    "knnPredict(7,'chebyshev')\n",
    "knnPredict_no_scaling(7,'chebyshev')"
   ]
  },
  {
   "cell_type": "code",
   "execution_count": 19,
   "id": "6b4ba91a-b3fc-4f01-b820-1bebe0f363b0",
   "metadata": {},
   "outputs": [],
   "source": [
    "def dec_tree(crit,Maxdepth):\n",
    "    clf = DecisionTreeClassifier(criterion=crit,max_depth=Maxdepth)\n",
    "    clf.fit(X_train_scaled, y_train)\n",
    "   "
   ]
  },
  {
   "cell_type": "code",
   "execution_count": 20,
   "id": "0d5e654d-2884-4d74-9324-91d80fa0f2e6",
   "metadata": {},
   "outputs": [],
   "source": [
    "def dec_tree_no_scaling(crit,Maxdepth):\n",
    "    clf = DecisionTreeClassifier(criterion=crit,max_depth=Maxdepth)\n",
    "    clf.fit(x_train, y_train)"
   ]
  },
  {
   "cell_type": "code",
   "execution_count": 21,
   "id": "f621affb-8f5e-4c14-8ca8-71ece7f2a0d3",
   "metadata": {},
   "outputs": [],
   "source": [
    "tree1 = dec_tree('entropy',3)\n",
    "dec_tree_no_scaling('entropy',3)"
   ]
  },
  {
   "cell_type": "code",
   "execution_count": 22,
   "id": "d50f1ed3-b2da-422f-af79-326ff9dbb870",
   "metadata": {},
   "outputs": [],
   "source": [
    "tree2 = dec_tree('entropy',7)\n",
    "dec_tree_no_scaling('entropy',7)"
   ]
  },
  {
   "cell_type": "code",
   "execution_count": 23,
   "id": "57ecea0a-fdc8-4968-9d5f-673fc071b8a8",
   "metadata": {},
   "outputs": [],
   "source": [
    "tree3 = dec_tree('gini',3)\n",
    "dec_tree_no_scaling('gini',3)"
   ]
  },
  {
   "cell_type": "code",
   "execution_count": 24,
   "id": "753c0c94-2427-4538-a550-70716f4a06a0",
   "metadata": {},
   "outputs": [],
   "source": [
    "tree4 = dec_tree('gini',7)\n",
    "dec_tree_no_scaling('gini',7)"
   ]
  },
  {
   "cell_type": "code",
   "execution_count": 25,
   "id": "633d07c0-f8aa-46af-9377-83edfe08ce0b",
   "metadata": {},
   "outputs": [],
   "source": [
    "def grid_knn():\n",
    "    model=KNeighborsClassifier()\n",
    "    param_grid = {\n",
    "    'metric': ['manhattan', 'chebyshev'],\n",
    "    'n_neighbors': [3, 7]\n",
    "    }\n",
    "    grid_search = GridSearchCV(estimator=model, param_grid=param_grid, cv=5, scoring='accuracy')\n",
    "    grid_search.fit(X_train_scaled, y_train)\n",
    "    best_model = grid_search.best_estimator_\n",
    "    cv_results = grid_search.cv_results_\n",
    "    return grid_search.best_params_,grid_search.best_score_"
   ]
  },
  {
   "cell_type": "code",
   "execution_count": 26,
   "id": "77484d63-b44a-4376-a520-ab396d975aee",
   "metadata": {},
   "outputs": [
    {
     "data": {
      "text/plain": [
       "({'metric': 'manhattan', 'n_neighbors': 3}, 0.7977839062346105)"
      ]
     },
     "execution_count": 26,
     "metadata": {},
     "output_type": "execute_result"
    }
   ],
   "source": [
    "grid_knn()"
   ]
  },
  {
   "cell_type": "code",
   "execution_count": 27,
   "id": "7da4180e-a619-4e7e-904d-0ec0ceab76a4",
   "metadata": {},
   "outputs": [],
   "source": [
    "def grid_tree():\n",
    "    model=DecisionTreeClassifier()\n",
    "    param_grid = {\n",
    "    'criterion': ['gini', 'entropy'],\n",
    "    'max_depth': [3, 7]\n",
    "    }\n",
    "    grid_search = GridSearchCV(estimator=model, param_grid=param_grid, cv=5, scoring='accuracy')\n",
    "    grid_search.fit(X_train_scaled, y_train)\n",
    "    best_model = grid_search.best_estimator_\n",
    "    cv_results = grid_search.cv_results_\n",
    "    return grid_search.best_params_,grid_search.best_score_"
   ]
  },
  {
   "cell_type": "code",
   "execution_count": 28,
   "id": "24a3b1c7-83c5-4516-a8ca-99570a706780",
   "metadata": {},
   "outputs": [
    {
     "data": {
      "text/plain": [
       "({'criterion': 'gini', 'max_depth': 3}, 0.8075642667191962)"
      ]
     },
     "execution_count": 28,
     "metadata": {},
     "output_type": "execute_result"
    }
   ],
   "source": [
    "grid_tree()"
   ]
  },
  {
   "cell_type": "code",
   "execution_count": 29,
   "id": "f65a70f4-b2bc-4081-b814-c38c7965b8a0",
   "metadata": {},
   "outputs": [],
   "source": [
    "def f1_score_knn(k,dist_metric):\n",
    "    model = KNeighborsClassifier(n_neighbors=k,metric=dist_metric)\n",
    "    scores_valid = cross_val_score(model,X_train_scaled,y_train,cv=5)\n",
    "    y_pred = cross_val_predict(model, X_train_scaled, y_train, cv=5)\n",
    "    score_f1 = f1_score(y_train,y_pred , average='weighted')\n",
    "    print(score_f1,scores_valid.mean())\n",
    "    return score_f1,scores_valid.mean()"
   ]
  },
  {
   "cell_type": "code",
   "execution_count": 30,
   "id": "86765b9d-3309-4152-b6a8-11ba4d3cf1b6",
   "metadata": {},
   "outputs": [],
   "source": [
    "def f1_score_tree(crit,Maxdepth):\n",
    "    model = DecisionTreeClassifier(criterion=crit,max_depth=Maxdepth)\n",
    "    \n",
    "    scores_valid = cross_val_score(model,X_train_scaled,y_train,cv=5)\n",
    "    y_pred = cross_val_predict(model, X_train_scaled, y_train, cv=5)\n",
    "    score_f1 = f1_score(y_train,y_pred , average='weighted')\n",
    "    return score_f1,scores_valid.mean()"
   ]
  },
  {
   "cell_type": "code",
   "execution_count": 31,
   "id": "07e85beb-2b46-4f1e-8145-e0df644c7e9b",
   "metadata": {},
   "outputs": [],
   "source": [
    "def f1_score_knn_no_scaling(k,dist_metric):\n",
    "    model = KNeighborsClassifier(n_neighbors=k,metric=dist_metric)\n",
    "    scores_valid = cross_val_score(model,x_train,y_train,cv=5)\n",
    "    y_pred = cross_val_predict(model, x_train, y_train, cv=5)\n",
    "    score_f1 = f1_score(y_train,y_pred , average='weighted')\n",
    "    return score_f1,scores_valid.mean()"
   ]
  },
  {
   "cell_type": "code",
   "execution_count": 32,
   "id": "680383df-a461-434e-9d25-c79d9f7ee90b",
   "metadata": {},
   "outputs": [],
   "source": [
    "def f1_score_tree_no_scaling(crit,Maxdepth):\n",
    "    model = DecisionTreeClassifier(criterion=crit,max_depth=Maxdepth)\n",
    "    scores_valid = cross_val_score(model,x_train,y_train,cv=5)\n",
    "    y_pred = cross_val_predict(model, x_train, y_train, cv=5)\n",
    "    score_f1 = f1_score(y_train,y_pred , average='weighted')\n",
    "    return score_f1,scores_valid.mean()"
   ]
  },
  {
   "cell_type": "code",
   "execution_count": 33,
   "id": "03e7b3a8-a38c-4a2c-9991-7f66ca8b428c",
   "metadata": {},
   "outputs": [
    {
     "name": "stdout",
     "output_type": "stream",
     "text": [
      "0.7966322791896748 0.7977839062346105\n",
      "0.7861344597878606 0.7893529006205062\n",
      "0.7781876104629679 0.7795134443021767\n",
      "0.7842780793670834 0.7865359992120555\n"
     ]
    },
    {
     "data": {
      "text/html": [
       "<div>\n",
       "<style scoped>\n",
       "    .dataframe tbody tr th:only-of-type {\n",
       "        vertical-align: middle;\n",
       "    }\n",
       "\n",
       "    .dataframe tbody tr th {\n",
       "        vertical-align: top;\n",
       "    }\n",
       "\n",
       "    .dataframe thead th {\n",
       "        text-align: right;\n",
       "    }\n",
       "</style>\n",
       "<table border=\"1\" class=\"dataframe\">\n",
       "  <thead>\n",
       "    <tr style=\"text-align: right;\">\n",
       "      <th></th>\n",
       "      <th>model</th>\n",
       "      <th>Hyper_Parameter_1</th>\n",
       "      <th>Hyper_Parameter_2</th>\n",
       "      <th>f1_score</th>\n",
       "      <th>Cross_Validation_Mean_Score</th>\n",
       "    </tr>\n",
       "  </thead>\n",
       "  <tbody>\n",
       "    <tr>\n",
       "      <th>0</th>\n",
       "      <td>knn</td>\n",
       "      <td>3</td>\n",
       "      <td>manhattan</td>\n",
       "      <td>0.796632</td>\n",
       "      <td>0.797784</td>\n",
       "    </tr>\n",
       "    <tr>\n",
       "      <th>1</th>\n",
       "      <td>knn</td>\n",
       "      <td>7</td>\n",
       "      <td>manhattan</td>\n",
       "      <td>0.786134</td>\n",
       "      <td>0.789353</td>\n",
       "    </tr>\n",
       "    <tr>\n",
       "      <th>2</th>\n",
       "      <td>knn</td>\n",
       "      <td>3</td>\n",
       "      <td>chebyshev</td>\n",
       "      <td>0.778188</td>\n",
       "      <td>0.779513</td>\n",
       "    </tr>\n",
       "    <tr>\n",
       "      <th>3</th>\n",
       "      <td>knn</td>\n",
       "      <td>7</td>\n",
       "      <td>chebyshev</td>\n",
       "      <td>0.784278</td>\n",
       "      <td>0.786536</td>\n",
       "    </tr>\n",
       "    <tr>\n",
       "      <th>4</th>\n",
       "      <td>Dec Tree</td>\n",
       "      <td>3</td>\n",
       "      <td>entropy</td>\n",
       "      <td>0.799063</td>\n",
       "      <td>0.801940</td>\n",
       "    </tr>\n",
       "    <tr>\n",
       "      <th>5</th>\n",
       "      <td>Dec Tree</td>\n",
       "      <td>7</td>\n",
       "      <td>entropy</td>\n",
       "      <td>0.797615</td>\n",
       "      <td>0.800542</td>\n",
       "    </tr>\n",
       "    <tr>\n",
       "      <th>6</th>\n",
       "      <td>Dec Tree</td>\n",
       "      <td>3</td>\n",
       "      <td>gini</td>\n",
       "      <td>0.805307</td>\n",
       "      <td>0.807564</td>\n",
       "    </tr>\n",
       "    <tr>\n",
       "      <th>7</th>\n",
       "      <td>Dec Tree</td>\n",
       "      <td>7</td>\n",
       "      <td>gini</td>\n",
       "      <td>0.779924</td>\n",
       "      <td>0.785137</td>\n",
       "    </tr>\n",
       "  </tbody>\n",
       "</table>\n",
       "</div>"
      ],
      "text/plain": [
       "      model  Hyper_Parameter_1 Hyper_Parameter_2  f1_score  \\\n",
       "0       knn                  3         manhattan  0.796632   \n",
       "1       knn                  7         manhattan  0.786134   \n",
       "2       knn                  3         chebyshev  0.778188   \n",
       "3       knn                  7         chebyshev  0.784278   \n",
       "4  Dec Tree                  3           entropy  0.799063   \n",
       "5  Dec Tree                  7           entropy  0.797615   \n",
       "6  Dec Tree                  3              gini  0.805307   \n",
       "7  Dec Tree                  7              gini  0.779924   \n",
       "\n",
       "   Cross_Validation_Mean_Score  \n",
       "0                     0.797784  \n",
       "1                     0.789353  \n",
       "2                     0.779513  \n",
       "3                     0.786536  \n",
       "4                     0.801940  \n",
       "5                     0.800542  \n",
       "6                     0.807564  \n",
       "7                     0.785137  "
      ]
     },
     "metadata": {},
     "output_type": "display_data"
    }
   ],
   "source": [
    "# 3, 7 , manhattan, chebyshev\n",
    "data = [{'model': 'knn', 'Hyper_Parameter_1': 3,'Hyper_Parameter_2': 'manhattan','f1_score': 0.0,'Cross_Validation_Mean_Score': 0.0},\n",
    "{'model': 'knn', 'Hyper_Parameter_1': 7,'Hyper_Parameter_2': 'manhattan','f1_score': 0.0,'Cross_Validation_Mean_Score': 0.0},\n",
    "{'model': 'knn', 'Hyper_Parameter_1': 3,'Hyper_Parameter_2': 'chebyshev','f1_score': 0.0,'Cross_Validation_Mean_Score': 0.0},\n",
    "{'model': 'knn', 'Hyper_Parameter_1': 7,'Hyper_Parameter_2': 'chebyshev','f1_score': 0.0,'Cross_Validation_Mean_Score': 0.0},\n",
    "{'model': 'Dec Tree', 'Hyper_Parameter_1': 3,'Hyper_Parameter_2': 'entropy','f1_score': 0.0,'Cross_Validation_Mean_Score': 0.0},\n",
    "{'model': 'Dec Tree', 'Hyper_Parameter_1': 7,'Hyper_Parameter_2': 'entropy','f1_score': 0.0,'Cross_Validation_Mean_Score': 0.0},\n",
    "{'model': 'Dec Tree', 'Hyper_Parameter_1': 3,'Hyper_Parameter_2': 'gini','f1_score': 0.0,'Cross_Validation_Mean_Score': 0.0},\n",
    "{'model': 'Dec Tree', 'Hyper_Parameter_1': 7,'Hyper_Parameter_2': 'gini','f1_score': 0.0,'Cross_Validation_Mean_Score': 0.0}\n",
    "]\n",
    "stat_scores = pd.DataFrame(data)\n",
    "for i in stat_scores.index:\n",
    "    param_1 = stat_scores.loc[i, 'Hyper_Parameter_1']\n",
    "    param_2 = stat_scores.loc[i, 'Hyper_Parameter_2']\n",
    "    if i <= 3:\n",
    "        f1_s, score_val = f1_score_knn(param_1, param_2)\n",
    "    else:\n",
    "        f1_s,score_val = f1_score_tree(param_2, param_1)\n",
    "    stat_scores.loc[i, 'f1_score'] = f1_s\n",
    "    stat_scores.loc[i, 'Cross_Validation_Mean_Score'] = score_val\n",
    "display(stat_scores)"
   ]
  },
  {
   "cell_type": "code",
   "execution_count": 34,
   "id": "222df242-fec4-4e2b-85b7-47840a6e1c6b",
   "metadata": {},
   "outputs": [
    {
     "data": {
      "text/html": [
       "<div>\n",
       "<style scoped>\n",
       "    .dataframe tbody tr th:only-of-type {\n",
       "        vertical-align: middle;\n",
       "    }\n",
       "\n",
       "    .dataframe tbody tr th {\n",
       "        vertical-align: top;\n",
       "    }\n",
       "\n",
       "    .dataframe thead th {\n",
       "        text-align: right;\n",
       "    }\n",
       "</style>\n",
       "<table border=\"1\" class=\"dataframe\">\n",
       "  <thead>\n",
       "    <tr style=\"text-align: right;\">\n",
       "      <th></th>\n",
       "      <th>model</th>\n",
       "      <th>Hyper_Parameter_1</th>\n",
       "      <th>Hyper_Parameter_2</th>\n",
       "      <th>f1_score</th>\n",
       "      <th>Cross_Validation_Mean_Score</th>\n",
       "    </tr>\n",
       "  </thead>\n",
       "  <tbody>\n",
       "    <tr>\n",
       "      <th>0</th>\n",
       "      <td>knn</td>\n",
       "      <td>3</td>\n",
       "      <td>manhattan</td>\n",
       "      <td>0.721832</td>\n",
       "      <td>0.724732</td>\n",
       "    </tr>\n",
       "    <tr>\n",
       "      <th>1</th>\n",
       "      <td>knn</td>\n",
       "      <td>7</td>\n",
       "      <td>manhattan</td>\n",
       "      <td>0.730348</td>\n",
       "      <td>0.733222</td>\n",
       "    </tr>\n",
       "    <tr>\n",
       "      <th>2</th>\n",
       "      <td>knn</td>\n",
       "      <td>3</td>\n",
       "      <td>chebyshev</td>\n",
       "      <td>0.681353</td>\n",
       "      <td>0.683965</td>\n",
       "    </tr>\n",
       "    <tr>\n",
       "      <th>3</th>\n",
       "      <td>knn</td>\n",
       "      <td>7</td>\n",
       "      <td>chebyshev</td>\n",
       "      <td>0.691337</td>\n",
       "      <td>0.695253</td>\n",
       "    </tr>\n",
       "    <tr>\n",
       "      <th>4</th>\n",
       "      <td>Dec Tree</td>\n",
       "      <td>3</td>\n",
       "      <td>entropy</td>\n",
       "      <td>0.799063</td>\n",
       "      <td>0.801940</td>\n",
       "    </tr>\n",
       "    <tr>\n",
       "      <th>5</th>\n",
       "      <td>Dec Tree</td>\n",
       "      <td>7</td>\n",
       "      <td>entropy</td>\n",
       "      <td>0.796509</td>\n",
       "      <td>0.800552</td>\n",
       "    </tr>\n",
       "    <tr>\n",
       "      <th>6</th>\n",
       "      <td>Dec Tree</td>\n",
       "      <td>3</td>\n",
       "      <td>gini</td>\n",
       "      <td>0.806641</td>\n",
       "      <td>0.808963</td>\n",
       "    </tr>\n",
       "    <tr>\n",
       "      <th>7</th>\n",
       "      <td>Dec Tree</td>\n",
       "      <td>7</td>\n",
       "      <td>gini</td>\n",
       "      <td>0.783320</td>\n",
       "      <td>0.783739</td>\n",
       "    </tr>\n",
       "  </tbody>\n",
       "</table>\n",
       "</div>"
      ],
      "text/plain": [
       "      model  Hyper_Parameter_1 Hyper_Parameter_2  f1_score  \\\n",
       "0       knn                  3         manhattan  0.721832   \n",
       "1       knn                  7         manhattan  0.730348   \n",
       "2       knn                  3         chebyshev  0.681353   \n",
       "3       knn                  7         chebyshev  0.691337   \n",
       "4  Dec Tree                  3           entropy  0.799063   \n",
       "5  Dec Tree                  7           entropy  0.796509   \n",
       "6  Dec Tree                  3              gini  0.806641   \n",
       "7  Dec Tree                  7              gini  0.783320   \n",
       "\n",
       "   Cross_Validation_Mean_Score  \n",
       "0                     0.724732  \n",
       "1                     0.733222  \n",
       "2                     0.683965  \n",
       "3                     0.695253  \n",
       "4                     0.801940  \n",
       "5                     0.800552  \n",
       "6                     0.808963  \n",
       "7                     0.783739  "
      ]
     },
     "metadata": {},
     "output_type": "display_data"
    }
   ],
   "source": [
    "data = [{'model': 'knn', 'Hyper_Parameter_1': 3,'Hyper_Parameter_2': 'manhattan','f1_score': 0.0,'Cross_Validation_Mean_Score': 0.0},\n",
    "{'model': 'knn', 'Hyper_Parameter_1': 7,'Hyper_Parameter_2': 'manhattan','f1_score': 0.0,'Cross_Validation_Mean_Score': 0.0},\n",
    "{'model': 'knn', 'Hyper_Parameter_1': 3,'Hyper_Parameter_2': 'chebyshev','f1_score': 0.0,'Cross_Validation_Mean_Score': 0.0},\n",
    "{'model': 'knn', 'Hyper_Parameter_1': 7,'Hyper_Parameter_2': 'chebyshev','f1_score': 0.0,'Cross_Validation_Mean_Score': 0.0},\n",
    "{'model': 'Dec Tree', 'Hyper_Parameter_1': 3,'Hyper_Parameter_2': 'entropy','f1_score': 0.0,'Cross_Validation_Mean_Score': 0.0},\n",
    "{'model': 'Dec Tree', 'Hyper_Parameter_1': 7,'Hyper_Parameter_2': 'entropy','f1_score': 0.0,'Cross_Validation_Mean_Score': 0.0},\n",
    "{'model': 'Dec Tree', 'Hyper_Parameter_1': 3,'Hyper_Parameter_2': 'gini','f1_score': 0.0,'Cross_Validation_Mean_Score': 0.0},\n",
    "{'model': 'Dec Tree', 'Hyper_Parameter_1': 7,'Hyper_Parameter_2': 'gini','f1_score': 0.0,'Cross_Validation_Mean_Score': 0.0}\n",
    "]\n",
    "stat_scores_no_scaling = pd.DataFrame(data)\n",
    "for i in stat_scores_no_scaling.index:\n",
    "    param_1 = stat_scores_no_scaling.loc[i, 'Hyper_Parameter_1']\n",
    "    param_2 = stat_scores_no_scaling.loc[i, 'Hyper_Parameter_2']\n",
    "    if i <= 3:\n",
    "        f1_s, score_val = f1_score_knn_no_scaling(param_1, param_2)\n",
    "    else:\n",
    "        f1_s,score_val = f1_score_tree_no_scaling(param_2, param_1)\n",
    "    stat_scores_no_scaling.loc[i, 'f1_score'] = f1_s\n",
    "    stat_scores_no_scaling.loc[i, 'Cross_Validation_Mean_Score'] = score_val\n",
    "display(stat_scores_no_scaling)"
   ]
  },
  {
   "cell_type": "markdown",
   "id": "67d97f11",
   "metadata": {},
   "source": [
    "## Part 3 - Training flow\n",
    "Use the best combination of feature engineering, model (algorithm and hyperparameters) from the experiment part (part 2)"
   ]
  },
  {
   "cell_type": "code",
   "execution_count": 35,
   "id": "93713ead",
   "metadata": {},
   "outputs": [
    {
     "data": {
      "text/html": [
       "<style>#sk-container-id-1 {color: black;background-color: white;}#sk-container-id-1 pre{padding: 0;}#sk-container-id-1 div.sk-toggleable {background-color: white;}#sk-container-id-1 label.sk-toggleable__label {cursor: pointer;display: block;width: 100%;margin-bottom: 0;padding: 0.3em;box-sizing: border-box;text-align: center;}#sk-container-id-1 label.sk-toggleable__label-arrow:before {content: \"▸\";float: left;margin-right: 0.25em;color: #696969;}#sk-container-id-1 label.sk-toggleable__label-arrow:hover:before {color: black;}#sk-container-id-1 div.sk-estimator:hover label.sk-toggleable__label-arrow:before {color: black;}#sk-container-id-1 div.sk-toggleable__content {max-height: 0;max-width: 0;overflow: hidden;text-align: left;background-color: #f0f8ff;}#sk-container-id-1 div.sk-toggleable__content pre {margin: 0.2em;color: black;border-radius: 0.25em;background-color: #f0f8ff;}#sk-container-id-1 input.sk-toggleable__control:checked~div.sk-toggleable__content {max-height: 200px;max-width: 100%;overflow: auto;}#sk-container-id-1 input.sk-toggleable__control:checked~label.sk-toggleable__label-arrow:before {content: \"▾\";}#sk-container-id-1 div.sk-estimator input.sk-toggleable__control:checked~label.sk-toggleable__label {background-color: #d4ebff;}#sk-container-id-1 div.sk-label input.sk-toggleable__control:checked~label.sk-toggleable__label {background-color: #d4ebff;}#sk-container-id-1 input.sk-hidden--visually {border: 0;clip: rect(1px 1px 1px 1px);clip: rect(1px, 1px, 1px, 1px);height: 1px;margin: -1px;overflow: hidden;padding: 0;position: absolute;width: 1px;}#sk-container-id-1 div.sk-estimator {font-family: monospace;background-color: #f0f8ff;border: 1px dotted black;border-radius: 0.25em;box-sizing: border-box;margin-bottom: 0.5em;}#sk-container-id-1 div.sk-estimator:hover {background-color: #d4ebff;}#sk-container-id-1 div.sk-parallel-item::after {content: \"\";width: 100%;border-bottom: 1px solid gray;flex-grow: 1;}#sk-container-id-1 div.sk-label:hover label.sk-toggleable__label {background-color: #d4ebff;}#sk-container-id-1 div.sk-serial::before {content: \"\";position: absolute;border-left: 1px solid gray;box-sizing: border-box;top: 0;bottom: 0;left: 50%;z-index: 0;}#sk-container-id-1 div.sk-serial {display: flex;flex-direction: column;align-items: center;background-color: white;padding-right: 0.2em;padding-left: 0.2em;position: relative;}#sk-container-id-1 div.sk-item {position: relative;z-index: 1;}#sk-container-id-1 div.sk-parallel {display: flex;align-items: stretch;justify-content: center;background-color: white;position: relative;}#sk-container-id-1 div.sk-item::before, #sk-container-id-1 div.sk-parallel-item::before {content: \"\";position: absolute;border-left: 1px solid gray;box-sizing: border-box;top: 0;bottom: 0;left: 50%;z-index: -1;}#sk-container-id-1 div.sk-parallel-item {display: flex;flex-direction: column;z-index: 1;position: relative;background-color: white;}#sk-container-id-1 div.sk-parallel-item:first-child::after {align-self: flex-end;width: 50%;}#sk-container-id-1 div.sk-parallel-item:last-child::after {align-self: flex-start;width: 50%;}#sk-container-id-1 div.sk-parallel-item:only-child::after {width: 0;}#sk-container-id-1 div.sk-dashed-wrapped {border: 1px dashed gray;margin: 0 0.4em 0.5em 0.4em;box-sizing: border-box;padding-bottom: 0.4em;background-color: white;}#sk-container-id-1 div.sk-label label {font-family: monospace;font-weight: bold;display: inline-block;line-height: 1.2em;}#sk-container-id-1 div.sk-label-container {text-align: center;}#sk-container-id-1 div.sk-container {/* jupyter's `normalize.less` sets `[hidden] { display: none; }` but bootstrap.min.css set `[hidden] { display: none !important; }` so we also need the `!important` here to be able to override the default hidden behavior on the sphinx rendered scikit-learn.org. See: https://github.com/scikit-learn/scikit-learn/issues/21755 */display: inline-block !important;position: relative;}#sk-container-id-1 div.sk-text-repr-fallback {display: none;}</style><div id=\"sk-container-id-1\" class=\"sk-top-container\"><div class=\"sk-text-repr-fallback\"><pre>DecisionTreeClassifier(max_depth=3)</pre><b>In a Jupyter environment, please rerun this cell to show the HTML representation or trust the notebook. <br />On GitHub, the HTML representation is unable to render, please try loading this page with nbviewer.org.</b></div><div class=\"sk-container\" hidden><div class=\"sk-item\"><div class=\"sk-estimator sk-toggleable\"><input class=\"sk-toggleable__control sk-hidden--visually\" id=\"sk-estimator-id-1\" type=\"checkbox\" checked><label for=\"sk-estimator-id-1\" class=\"sk-toggleable__label sk-toggleable__label-arrow\">DecisionTreeClassifier</label><div class=\"sk-toggleable__content\"><pre>DecisionTreeClassifier(max_depth=3)</pre></div></div></div></div></div>"
      ],
      "text/plain": [
       "DecisionTreeClassifier(max_depth=3)"
      ]
     },
     "execution_count": 35,
     "metadata": {},
     "output_type": "execute_result"
    }
   ],
   "source": [
    "clf = DecisionTreeClassifier(criterion='gini',max_depth=3)\n",
    "clf.fit(X_train_scaled, y_train)"
   ]
  },
  {
   "cell_type": "markdown",
   "id": "259ab902",
   "metadata": {},
   "source": [
    "## Part 4 - Apply on test and show model performance estimation"
   ]
  },
  {
   "cell_type": "code",
   "execution_count": 36,
   "id": "d9971aa5",
   "metadata": {},
   "outputs": [
    {
     "name": "stdout",
     "output_type": "stream",
     "text": [
      "Accuracy: 0.8324022346368715\n"
     ]
    }
   ],
   "source": [
    "y_pred = clf.predict(X_test_scaled)\n",
    "accuracy = accuracy_score(y_test, y_pred)\n",
    "print(\"Accuracy:\", accuracy)"
   ]
  },
  {
   "cell_type": "code",
   "execution_count": 37,
   "id": "00d8aa96",
   "metadata": {},
   "outputs": [
    {
     "name": "stdout",
     "output_type": "stream",
     "text": [
      "[0 0 0 1 0 0 1 0 1 0]\n"
     ]
    }
   ],
   "source": [
    "print(y_pred[:10]) # first classification"
   ]
  },
  {
   "cell_type": "code",
   "execution_count": 38,
   "id": "2d179906-d3cd-42d8-a603-3c074ce31a52",
   "metadata": {},
   "outputs": [
    {
     "name": "stdout",
     "output_type": "stream",
     "text": [
      "Confusion Matrix:\n"
     ]
    },
    {
     "data": {
      "text/html": [
       "<div>\n",
       "<style scoped>\n",
       "    .dataframe tbody tr th:only-of-type {\n",
       "        vertical-align: middle;\n",
       "    }\n",
       "\n",
       "    .dataframe tbody tr th {\n",
       "        vertical-align: top;\n",
       "    }\n",
       "\n",
       "    .dataframe thead th {\n",
       "        text-align: right;\n",
       "    }\n",
       "</style>\n",
       "<table border=\"1\" class=\"dataframe\">\n",
       "  <thead>\n",
       "    <tr style=\"text-align: right;\">\n",
       "      <th></th>\n",
       "      <th>Predicted False</th>\n",
       "      <th>Predicted True</th>\n",
       "    </tr>\n",
       "  </thead>\n",
       "  <tbody>\n",
       "    <tr>\n",
       "      <th>Actual False</th>\n",
       "      <td>111</td>\n",
       "      <td>7</td>\n",
       "    </tr>\n",
       "    <tr>\n",
       "      <th>Actual True</th>\n",
       "      <td>23</td>\n",
       "      <td>38</td>\n",
       "    </tr>\n",
       "  </tbody>\n",
       "</table>\n",
       "</div>"
      ],
      "text/plain": [
       "              Predicted False  Predicted True\n",
       "Actual False              111               7\n",
       "Actual True                23              38"
      ]
     },
     "metadata": {},
     "output_type": "display_data"
    }
   ],
   "source": [
    "cm = (confusion_matrix(y_test, y_pred))\n",
    "cmdf=pd.DataFrame(cm)\n",
    "print(\"Confusion Matrix:\")\n",
    "\n",
    "cmdf.index = ['Actual False','Actual True']\n",
    "cmdf.columns = ['Predicted False','Predicted True']\n",
    "display(cmdf)"
   ]
  },
  {
   "cell_type": "code",
   "execution_count": 39,
   "id": "9f0de7fd-f0e5-4419-9997-3804fe085d8a",
   "metadata": {},
   "outputs": [
    {
     "name": "stdout",
     "output_type": "stream",
     "text": [
      "Precision: 0.8444444444444444\n",
      "Recall: 0.6229508196721312\n"
     ]
    }
   ],
   "source": [
    "precision = precision_score(y_test, y_pred)\n",
    "recall = recall_score(y_test, y_pred)\n",
    "\n",
    "print(\"Precision:\", precision)\n",
    "print(\"Recall:\", recall)"
   ]
  },
  {
   "cell_type": "code",
   "execution_count": 40,
   "id": "0ea1d542-eb0f-4c20-b4d7-ef8cd80c96e7",
   "metadata": {},
   "outputs": [
    {
     "name": "stdout",
     "output_type": "stream",
     "text": [
      "f1_score = 0.8053074173444678\n",
      "cross validation = 0.8075642667191962\n"
     ]
    }
   ],
   "source": [
    "f1_s,cv_mean = f1_score_tree('gini',3)\n",
    "print(f\"f1_score = {f1_s}\")\n",
    "print(f\"cross validation = {cv_mean}\")"
   ]
  }
 ],
 "metadata": {
  "kernelspec": {
   "display_name": "Python 3 (ipykernel)",
   "language": "python",
   "name": "python3"
  },
  "language_info": {
   "codemirror_mode": {
    "name": "ipython",
    "version": 3
   },
   "file_extension": ".py",
   "mimetype": "text/x-python",
   "name": "python",
   "nbconvert_exporter": "python",
   "pygments_lexer": "ipython3",
   "version": "3.11.5"
  }
 },
 "nbformat": 4,
 "nbformat_minor": 5
}
